{
 "cells": [
  {
   "cell_type": "markdown",
   "metadata": {},
   "source": [
    "## Solve a quadratic equation, $x^2 + b x + c = 0$.\n",
    "\n",
    "\n",
    "Write a function which receives $b$ and $c$, the coefficients of a monic quadratic polynomial, $x^2 + b x + c$, and returns the pair of its roots. Your function should always return two values, even if quadratic has a double root.\n",
    "\n",
    "For example, given a quadratic $x^2 - 2x + 1$, your function should return a pair of $(1, 1)$. Of course, in floating point, your answers may differ from an exact unity.\n",
    "\n",
    "Your function also must correctly handle complex roots (to this end, you might need the `cmath` module from the standard library)."
   ]
  },
  {
   "cell_type": "code",
   "execution_count": 4,
   "metadata": {},
   "outputs": [],
   "source": [
    "import cmath\n",
    "def solve_quad(b, c):\n",
    "    \"\"\"Solve a quadratic equation, x**2 + bx + c = 0.\n",
    "    \n",
    "    Parameters\n",
    "    ----------\n",
    "    b, c : float\n",
    "       Coefficients\n",
    "       \n",
    "    Returns\n",
    "    -------\n",
    "    x1, x2 : float or complex\n",
    "       Roots.\n",
    "    \"\"\"\n",
    "    d = b**2 - 4 * c\n",
    "    if d > 0:\n",
    "        if abs(c / b) < 1e-7:                                                                                         # 1\n",
    "            x1, x2 = -b + c / b, -c / b\n",
    "        elif abs(b / c) < 1e-7:                                                                                       # 2\n",
    "            x1, x2 = -b / 2 - (-c)**0.5 - b**2 / 8 / (-c)**0.5, -b / 2 + (-c)**0.5 + b**2 / 8 / (-c)**0.5\n",
    "        else:                                                                                                         # 3\n",
    "            x1, x2 = (-b - cmath.sqrt(b**2 - 4 * c)) / 2, (-b + cmath.sqrt(b**2 - 4 * c)) / 2\n",
    "    elif d < 0:\n",
    "        if b / c < 1e-7:                                                                                              # 4\n",
    "            x1, x2 = -b / 2 + c**0.5 * j - (b**2 / 8 / c**0.5) * j, -b / 2 - c**0.5 * j + (b**2 / 8 / c**0.5) * j\n",
    "        else:                                                                                                         # 5\n",
    "            x1, x2 = (-b - cmath.sqrt(b**2 - 4 * c)) / 2, (-b + cmath.sqrt(b**2 - 4 * c)) / 2\n",
    "    else:                                                                                                             # 6\n",
    "        x1, x2 = -b / 2, -b / 2\n",
    "    return x1, x2\n",
    "        "
   ]
  },
  {
   "cell_type": "markdown",
   "metadata": {},
   "source": [
    "Воспользуемся формулой для корней квадратного уравнения: $x_{1,2} = \\frac{-b\\pm\\sqrt{D}}{2}$, где $D=b^2-4c$ \n",
    "\n",
    "Разберём 6* возможных ситуаций (порядок совпадает с разобранными случаями в написанной функции):\n",
    "\n",
    "1)$D > 0$, $|b| \\gg |c|$\n",
    "\n",
    "Так как компьютер делает вычисления с конечной точностью, в этом случае прямое вычисление корня из дискриминанта приводит к тому, что $\\sqrt{D}=b$, и, следовательно, $x_{1}=-b$ и $x_{2}=0$, что является ответом с очень большой погрешностью (как минимум, подстановка $x_{2}$ в первоначальное уравнение даёт результат $c=0$). Чтобы исправить это, воспользуемся формулой для разложения квадратного корня в ряд Тейлора:\n",
    "\n",
    "$$\\sqrt{1+x}=1+\\frac{x}{2}+o(x^2)\\Rightarrow\\sqrt{b^2-4c}=b\\sqrt{1-\\frac{4c}{b^2}}\\approx b-\\frac{2c}{b}$$\n",
    "\n",
    "Отсюда получаем, что $x_1=-b+\\frac{c}{b}$ и $x_{2}=-\\frac{c}{b}$, что является ответом с приемлемой точностью\n",
    "\n",
    "2)$D > 0$, $|b| \\ll |c|$\n",
    "\n",
    "При данных условиях возникает ошибка, аналогичная прошлому пункту (потеря точности при извлечении корня). Для устранения ошибки снова воспользуемся разложением в ряд Тейлора:\n",
    "\n",
    "$$\\sqrt{b^2-4c}=2\\sqrt{-c}\\cdot\\sqrt{1-\\frac{b^2}{4c}}\\approx 2\\sqrt{-c}\\cdot(1-\\frac{b^2}{8c})=2\\sqrt{-c}+\\frac{b^2}{4\\sqrt{-c}}$$\n",
    "$$\\Rightarrow x_{1}=-\\frac{b}{2}-\\Big(\\sqrt{-c}+\\frac{b^2}{8\\sqrt{-c}}\\Big); x_{2}=-\\frac{b}{2}+\\Big(\\sqrt{-c}+\\frac{b^2}{8\\sqrt{-c}}\\Big)$$\n",
    "\n",
    "3)$D > 0$, $b$ не сильно отличается от $c$\n",
    "\n",
    "В этом случае извлечение корня не даёт большой погрешности, поэтому можно использовать прямую формулу для корней квадратного уравнения\n",
    "\n",
    "4)$D < 0$, $|b|\\ll c$\n",
    "\n",
    "Возникает ошибка, аналогичная пункту 2, поэтому сразу можно написать корни уравнения:\n",
    "\n",
    "$$x_{1}=-\\frac{b}{2}+i\\Big(\\sqrt{c}-\\frac{b^2}{8\\sqrt{c}}\\Big)$$ \n",
    "$$x_{2}=-\\frac{b}{2}-i\\Big(\\sqrt{c}-\\frac{b^2}{8\\sqrt{c}}\\Big)$$\n",
    "\n",
    "5)$D < 0$, $b$ не сильно отличается от $c$\n",
    "\n",
    "Как и в пункте 3, здесь можно воспользоваться первоначальной формулой для корней\n",
    "\n",
    "6)$D=0$\n",
    "\n",
    "Получаем один кратный корень: $x_{1}=x_{2}=-\\frac{b}{2}$\n",
    "\n",
    "\n",
    "*)Да, я знаю, что можно было не рассматривать отдельно случаи $D>0$ и $D<0$, но я слишком поздно понял это и не успел всё по-человечески переписать"
   ]
  },
  {
   "cell_type": "markdown",
   "metadata": {},
   "source": [
    "Test the your function on several examples against a calculation by hand. Once you're sure that your function works, try these five test cases below. \n",
    "\n",
    "Note that the last two test cases are special: they test whether your function handles extreme cases where a too simple approach is prone to a catastrophic cancellation. Make sure your function passes all five tests.\n",
    "\n",
    "This exercise is graded, each test case contributes a 20% of the grade. "
   ]
  },
  {
   "cell_type": "code",
   "execution_count": 5,
   "metadata": {},
   "outputs": [],
   "source": [
    "from numpy import allclose"
   ]
  },
  {
   "cell_type": "code",
   "execution_count": 6,
   "metadata": {},
   "outputs": [],
   "source": [
    "variants = [{'b': 4.0, 'c': 3.0},\n",
    "            {'b': 2.0, 'c': 1.0},\n",
    "            {'b': 0.5, 'c': 4.0},\n",
    "            {'b': 1e10, 'c': 3.0},\n",
    "            {'b': -1e10, 'c': 4.0},]"
   ]
  },
  {
   "cell_type": "code",
   "execution_count": 7,
   "metadata": {},
   "outputs": [
    {
     "name": "stdout",
     "output_type": "stream",
     "text": [
      "True\n",
      "True\n",
      "True\n",
      "True\n",
      "True\n"
     ]
    }
   ],
   "source": [
    "for var in variants:\n",
    "    x1, x2 = solve_quad(**var)\n",
    "    print(allclose(x1*x2, var['c']))"
   ]
  },
  {
   "cell_type": "code",
   "execution_count": null,
   "metadata": {},
   "outputs": [],
   "source": []
  }
 ],
 "metadata": {
  "kernelspec": {
   "display_name": "Python 3",
   "language": "python",
   "name": "python3"
  },
  "language_info": {
   "codemirror_mode": {
    "name": "ipython",
    "version": 3
   },
   "file_extension": ".py",
   "mimetype": "text/x-python",
   "name": "python",
   "nbconvert_exporter": "python",
   "pygments_lexer": "ipython3",
   "version": "3.7.2"
  }
 },
 "nbformat": 4,
 "nbformat_minor": 2
}
